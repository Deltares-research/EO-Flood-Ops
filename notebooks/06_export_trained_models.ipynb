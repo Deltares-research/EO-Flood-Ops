{
 "cells": [
  {
   "cell_type": "code",
   "execution_count": 1,
   "id": "df944568",
   "metadata": {},
   "outputs": [],
   "source": [
    "from eo_flood_ops.model_utils import GroundTruthMeasurement, LaplaceDepthSolverConfig\n",
    "from eo_flood_ops.thresholding_model import ThresholdingModel \n",
    "from eo_flood_ops.manifold_model import ManifoldModel\n",
    "from eo_flood_ops.general_utils import tif_to_clipped_masked_array, tif_to_clipped_array, find_closest_valid\n",
    "\n",
    "\n",
    "class MyGroundTruthMeasurement(GroundTruthMeasurement):\n",
    "  pass\n",
    "\n",
    "import hydromt  # noqa: E402\n",
    "import xarray as xr  # noqa: E402\n",
    "import os\n",
    "import matplotlib.pyplot as plt\n",
    "import pandas as pd\n",
    "import numpy as np\n",
    "from datetime import datetime\n"
   ]
  },
  {
   "cell_type": "code",
   "execution_count": 2,
   "id": "458da36a",
   "metadata": {},
   "outputs": [],
   "source": [
    "# Directories and filenames\n",
    "images_dir = R\"p:\\11211461-010--eo-flood-ops\\HoiAn\\classified_events\"\n",
    "aoi_dir = R\"p:\\11211461-010--eo-flood-ops\\HoiAn\\AOI\"\n",
    "waterlevels_fn = R\"p:\\11211461-010--eo-flood-ops\\HoiAn\\water_levels\\Water_Level.csv\"\n",
    "dem_fn = R\"p:\\11211461-010--eo-flood-ops\\HoiAn\\DEMs\\hoi_an_FABDEM.tif\"\n",
    "\n",
    "# Load water level data\n",
    "df_water = pd.read_csv(waterlevels_fn, skiprows=[1])\n",
    "df_water.rename(columns={df_water.columns[0]: \"datetime\"}, inplace=True)\n",
    "df_water[\"datetime\"] = pd.to_datetime(df_water[\"datetime\"])"
   ]
  },
  {
   "cell_type": "code",
   "execution_count": 3,
   "id": "0d0c06d1",
   "metadata": {},
   "outputs": [
    {
     "name": "stdout",
     "output_type": "stream",
     "text": [
      "Processing AOI: ID6\n",
      "*********************************************\n",
      "Image: hoian_20221015T105600.tif\n",
      "Image timestamp (GMT+7): 2022-10-15 17:56:00\n",
      "Closest valid timestamp: 2022-10-15 18:00:00\n",
      "ID6 value: 3.25\n",
      "=============================================\n",
      "Image: hoian_20221202T105600.tif\n",
      "Image timestamp (GMT+7): 2022-12-02 17:56:00\n",
      "Closest valid timestamp: 2022-12-02 18:00:00\n",
      "ID6 value: 1.29\n",
      "=============================================\n",
      "Image: hoian_20221206T223600.tif\n",
      "Image timestamp (GMT+7): 2022-12-07 05:36:00\n",
      "Closest valid timestamp: 2022-12-07 05:40:00\n",
      "ID6 value: 1.31\n",
      "=============================================\n",
      "Image: hoian_20231115T105600.tif\n",
      "Image timestamp (GMT+7): 2023-11-15 17:56:00\n",
      "Closest valid timestamp: 2023-11-15 18:00:00\n",
      "ID6 value: 2.06\n",
      "=============================================\n",
      "\n",
      "\n"
     ]
    }
   ],
   "source": [
    "results_per_aoi = {}\n",
    "\n",
    "# Loop over AOI files\n",
    "for aoi_file in os.listdir(aoi_dir):\n",
    "    if not aoi_file.endswith('.geojson'):\n",
    "        continue\n",
    "    \n",
    "    aoi_name = aoi_file.split('_')[1].split('.')[0]\n",
    "\n",
    "    print(f\"Processing AOI: {aoi_name}\")\n",
    "    print(\"*\" * 45)\n",
    "    # Store image-water level tuples\n",
    "    image_water_levels = []\n",
    "    \n",
    "    # Loop over images\n",
    "    for image_name in os.listdir(images_dir):\n",
    "        if not image_name.endswith(\".tif\"):\n",
    "            continue\n",
    "        \n",
    "\n",
    "        datetime_str = image_name.split(\"_\")[1].replace(\".tif\", \"\") \n",
    "        dt = datetime.strptime(datetime_str, \"%Y%m%dT%H%M%S\")\n",
    "        dt = pd.Timestamp(dt)\n",
    "        dt_gmt7 = dt + pd.Timedelta(hours=7)  # Convert to GMT+7\n",
    "\n",
    "        closest_time, value = find_closest_valid(df_water, dt_gmt7, aoi_name)\n",
    "\n",
    "        if closest_time is not None:\n",
    "            print(f\"Image: {image_name}\")\n",
    "            print(f\"Image timestamp (GMT+7): {dt_gmt7}\")\n",
    "            print(\"Closest valid timestamp:\", closest_time)\n",
    "            print(f\"{aoi_name} value:\", value)\n",
    "            print(\"=\" * 45)\n",
    "            image_water_levels.append((image_name, value))\n",
    "        else:\n",
    "            print(f\"No valid {aoi_name} values found in dataset for image {image_name}.\")\n",
    "\n",
    "    if not image_water_levels:\n",
    "        print(f\"No images found for AOI: {aoi_name}\")\n",
    "        continue\n",
    "\n",
    "    # print some spacing to improve readability\n",
    "    print(\"\\n\" * 1)\n",
    "\n",
    "    # Sort by water level ascending\n",
    "    image_water_levels.sort(key=lambda x: x[1])\n",
    "    \n",
    "    # Store results\n",
    "    results_per_aoi[aoi_name] = image_water_levels"
   ]
  },
  {
   "cell_type": "code",
   "execution_count": 4,
   "id": "3d1b93d9",
   "metadata": {},
   "outputs": [],
   "source": [
    "# Prepare GROUND TRUTH for each AOI\n",
    "\n",
    "# Dictionary to store GROUND_TRUTH per AOI\n",
    "GROUND_TRUTH_per_aoi = {}\n",
    "\n",
    "for aoi_file in os.listdir(aoi_dir):\n",
    "    if not aoi_file.endswith('.geojson'):\n",
    "        continue\n",
    "    \n",
    "    aoi_name = aoi_file.split('_')[1].split('.')[0]\n",
    "    if aoi_name == \"Modrica\":  # skip for now\n",
    "        continue\n",
    "    \n",
    "    aoi_fn = os.path.join(aoi_dir, aoi_file)\n",
    "    \n",
    "    # Make sure we have results for this AOI\n",
    "    if aoi_name not in results_per_aoi:\n",
    "        print(f\"No images found for AOI: {aoi_name}\")\n",
    "        continue\n",
    "    \n",
    "    GROUND_TRUTH = []\n",
    "    \n",
    "    for image_name, water_level in results_per_aoi[aoi_name]:\n",
    "        image_path = os.path.join(images_dir, image_name)\n",
    "        \n",
    "        masked_array, transforms, crs = tif_to_clipped_masked_array(\n",
    "            image_path,\n",
    "            aoi_fn,\n",
    "        )\n",
    "        \n",
    "        GROUND_TRUTH.append(MyGroundTruthMeasurement(\n",
    "            ground_truth=masked_array,\n",
    "            gauge_measurement=water_level\n",
    "        ))\n",
    "    \n",
    "    # Store per AOI\n",
    "    GROUND_TRUTH_per_aoi[aoi_name] = GROUND_TRUTH"
   ]
  },
  {
   "cell_type": "code",
   "execution_count": 5,
   "id": "6e130b05",
   "metadata": {},
   "outputs": [
    {
     "name": "stdout",
     "output_type": "stream",
     "text": [
      "\n",
      "============================================================\n",
      "Starting training for AOI: ID6\n",
      "Number of ground truth images: 4\n",
      "Using minimum ratios: [0.1, 0.3, 0.5, 1, 2, 5, 10, 15, 20]\n"
     ]
    },
    {
     "name": "stderr",
     "output_type": "stream",
     "text": [
      "C:\\Users\\tsiokano\\git\\EO-Flood-Ops\\src\\eo_flood_ops\\model_utils.py:251: RuntimeWarning: divide by zero encountered in divide\n",
      "  ratios = true_wets / false_wets\n",
      "C:\\Users\\tsiokano\\git\\EO-Flood-Ops\\src\\eo_flood_ops\\model_utils.py:251: RuntimeWarning: invalid value encountered in divide\n",
      "  ratios = true_wets / false_wets\n"
     ]
    },
    {
     "name": "stdout",
     "output_type": "stream",
     "text": [
      "For min_ratio=0.1 we get f1=0.9578507578932621\n",
      "For min_ratio=0.3 we get f1=0.9578507578932621\n",
      "For min_ratio=0.5 we get f1=0.9615551717575752\n",
      "For min_ratio=1 we get f1=0.9651129127404915\n",
      "For min_ratio=2 we get f1=0.9632828107052388\n",
      "For min_ratio=5 we get f1=0.957188485187689\n",
      "For min_ratio=10 we get f1=0.957188485187689\n",
      "For min_ratio=15 we get f1=0.957188485187689\n",
      "For min_ratio=20 we get f1=0.957188485187689\n",
      "chosen min_ratio 1\n",
      "Finished training for AOI: ID6\n",
      "============================================================\n"
     ]
    }
   ],
   "source": [
    "MIN_RATIOS = [0.1, 0.3, 0.5, 1, 2, 5, 10, 15, 20]\n",
    "# MIN_RATIOS = [0.5, 1]\n",
    "\n",
    "trained_models_tm= {}\n",
    "\n",
    "for aoi_name, GROUND_TRUTH in GROUND_TRUTH_per_aoi.items():\n",
    "    print(\"\\n\" + \"=\"*60)\n",
    "    print(f\"Starting training for AOI: {aoi_name}\")\n",
    "    print(f\"Number of ground truth images: {len(GROUND_TRUTH)}\")\n",
    "    print(f\"Using minimum ratios: {MIN_RATIOS}\")\n",
    "    \n",
    "    tm = ThresholdingModel()\n",
    "    \n",
    "    tm.train(\n",
    "        minumum_ratios=MIN_RATIOS,\n",
    "        ground_truth=GROUND_TRUTH\n",
    "    )\n",
    "    \n",
    "    trained_models_tm[aoi_name] = tm\n",
    "    print(f\"Finished training for AOI: {aoi_name}\")\n",
    "    print(\"=\"*60)"
   ]
  },
  {
   "cell_type": "code",
   "execution_count": 11,
   "id": "8e4f24f7",
   "metadata": {},
   "outputs": [
    {
     "data": {
      "text/plain": [
       "'p:\\\\11211461-010--eo-flood-ops\\\\HoiAn\\\\FEWS\\\\thresholding_model_ID6_new.pkl'"
      ]
     },
     "execution_count": 11,
     "metadata": {},
     "output_type": "execute_result"
    }
   ],
   "source": [
    "trained_models_tm[\"ID6\"].save(\n",
    "    filedir=R\"p:\\11211461-010--eo-flood-ops\\HoiAn\\FEWS\",\n",
    "    filename=\"thresholding_model_ID6_new.pkl\"\n",
    ")"
   ]
  },
  {
   "cell_type": "code",
   "execution_count": 5,
   "id": "83660ea1",
   "metadata": {},
   "outputs": [],
   "source": [
    "DEM_per_aoi = {}\n",
    "\n",
    "for aoi_file in os.listdir(aoi_dir):\n",
    "    if not aoi_file.endswith('.geojson'):\n",
    "        continue\n",
    "    if aoi_file.split('_')[1].split('.')[0] == \"Modrica\":  # skip for now\n",
    "        continue\n",
    "    \n",
    "    aoi_name = aoi_file.split('_')[1].split('.')[0]\n",
    "    aoi_fn = os.path.join(aoi_dir, aoi_file)\n",
    "    \n",
    "    # Clip DEM for this AOI\n",
    "    DEM, dem_transform, dem_crs = tif_to_clipped_array(dem_fn, aoi_fn)\n",
    "    \n",
    "    # Store in a dictionary\n",
    "    DEM_per_aoi[aoi_name] = {\n",
    "        'DEM': DEM,\n",
    "        'transform': dem_transform,\n",
    "        'crs': dem_crs\n",
    "    }"
   ]
  },
  {
   "cell_type": "code",
   "execution_count": 6,
   "id": "845d30a9",
   "metadata": {},
   "outputs": [
    {
     "name": "stdout",
     "output_type": "stream",
     "text": [
      "\n",
      "============================================================\n",
      "Starting training for AOI: ID6\n",
      "Using minimum ratios: [0.1, 0.3, 0.5, 1, 2, 5, 10, 15, 20]\n",
      "Number of ground truth images: 4\n",
      "Training an inner thresholding model used for flood-fill.\n"
     ]
    },
    {
     "name": "stderr",
     "output_type": "stream",
     "text": [
      "C:\\Users\\tsiokano\\git\\EO-Flood-Ops\\src\\eo_flood_ops\\model_utils.py:251: RuntimeWarning: divide by zero encountered in divide\n",
      "  ratios = true_wets / false_wets\n",
      "C:\\Users\\tsiokano\\git\\EO-Flood-Ops\\src\\eo_flood_ops\\model_utils.py:251: RuntimeWarning: invalid value encountered in divide\n",
      "  ratios = true_wets / false_wets\n"
     ]
    },
    {
     "name": "stdout",
     "output_type": "stream",
     "text": [
      "For min_ratio=0.1 we get f1=0.9578507578932621\n",
      "For min_ratio=0.3 we get f1=0.9578507578932621\n",
      "For min_ratio=0.5 we get f1=0.9615551717575752\n",
      "For min_ratio=1 we get f1=0.9651129127404915\n",
      "For min_ratio=2 we get f1=0.9632828107052388\n",
      "For min_ratio=5 we get f1=0.957188485187689\n",
      "For min_ratio=10 we get f1=0.957188485187689\n",
      "For min_ratio=15 we get f1=0.957188485187689\n",
      "For min_ratio=20 we get f1=0.957188485187689\n",
      "chosen min_ratio 1\n",
      "Running flood extent to depth on ground truth examples..\n",
      "Running flood extent to depth algorithm for image at gauge_level 1.29\n",
      "Running flood extent to depth algorithm for image at gauge_level 1.31\n",
      "Running flood extent to depth algorithm for image at gauge_level 2.06\n",
      "Running flood extent to depth algorithm for image at gauge_level 3.25\n",
      "Finished training for AOI: ID6\n",
      "============================================================\n"
     ]
    }
   ],
   "source": [
    "trained_models_mm = {}\n",
    "MIN_RATIOS = [0.1, 0.3, 0.5, 1, 2, 5, 10, 15, 20]\n",
    "\n",
    "for aoi_name, GROUND_TRUTH in GROUND_TRUTH_per_aoi.items():\n",
    "    print(\"\\n\" + \"=\"*60)\n",
    "    print(f\"Starting training for AOI: {aoi_name}\")\n",
    "    print(f\"Using minimum ratios: {MIN_RATIOS}\")\n",
    "\n",
    "    # Get DEM for this AOI\n",
    "    DEM = DEM_per_aoi[aoi_name]['DEM']\n",
    "\n",
    "    print(f\"Number of ground truth images: {len(GROUND_TRUTH)}\")\n",
    "\n",
    "    # Create the model\n",
    "    mm = ManifoldModel(\n",
    "        dem=DEM,\n",
    "        scale=30,\n",
    "        laplace_config=LaplaceDepthSolverConfig(\n",
    "            down_scale_factor=32,\n",
    "            solve_iterations_factor=3.,\n",
    "            force_coeff=0.9,\n",
    "            drop_iterations=1,\n",
    "            drop_coeff=0.00003\n",
    "        ),\n",
    "        force_tolerance=1,\n",
    "        force_local_region_width=5,\n",
    "        flood_agree_threshold=0.1\n",
    "    )\n",
    "\n",
    "    mm.train(\n",
    "        minumum_ratios=MIN_RATIOS,\n",
    "        ground_truth=GROUND_TRUTH\n",
    "    )\n",
    "\n",
    "    trained_models_mm[aoi_name] = mm\n",
    "    print(f\"Finished training for AOI: {aoi_name}\")\n",
    "    print(\"=\"*60)"
   ]
  },
  {
   "cell_type": "code",
   "execution_count": 7,
   "id": "ae829069",
   "metadata": {},
   "outputs": [
    {
     "data": {
      "text/plain": [
       "'p:\\\\11211461-010--eo-flood-ops\\\\HoiAn\\\\FEWS\\\\manifold_model_ID6_new.pkl'"
      ]
     },
     "execution_count": 7,
     "metadata": {},
     "output_type": "execute_result"
    }
   ],
   "source": [
    "trained_models_mm[\"ID6\"].save(\n",
    "    filedir=R\"p:\\11211461-010--eo-flood-ops\\HoiAn\\FEWS\",\n",
    "    filename=\"manifold_model_ID6_new.pkl\"\n",
    ")"
   ]
  },
  {
   "cell_type": "code",
   "execution_count": null,
   "id": "1ea0de21",
   "metadata": {},
   "outputs": [],
   "source": []
  },
  {
   "cell_type": "code",
   "execution_count": null,
   "id": "2f386b64",
   "metadata": {},
   "outputs": [],
   "source": []
  }
 ],
 "metadata": {
  "kernelspec": {
   "display_name": "eo-flood-ops",
   "language": "python",
   "name": "python3"
  },
  "language_info": {
   "codemirror_mode": {
    "name": "ipython",
    "version": 3
   },
   "file_extension": ".py",
   "mimetype": "text/x-python",
   "name": "python",
   "nbconvert_exporter": "python",
   "pygments_lexer": "ipython3",
   "version": "3.12.7"
  }
 },
 "nbformat": 4,
 "nbformat_minor": 5
}
